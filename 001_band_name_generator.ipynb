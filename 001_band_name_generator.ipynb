{
  "nbformat": 4,
  "nbformat_minor": 0,
  "metadata": {
    "colab": {
      "provenance": [],
      "authorship_tag": "ABX9TyPTC5IGY7AUuZ6XetkLD0Da",
      "include_colab_link": true
    },
    "kernelspec": {
      "name": "python3",
      "display_name": "Python 3"
    },
    "language_info": {
      "name": "python"
    }
  },
  "cells": [
    {
      "cell_type": "markdown",
      "metadata": {
        "id": "view-in-github",
        "colab_type": "text"
      },
      "source": [
        "<a href=\"https://colab.research.google.com/github/ajax004/ajax004.github.io/blob/main/001_band_name_generator.ipynb\" target=\"_parent\"><img src=\"https://colab.research.google.com/assets/colab-badge.svg\" alt=\"Open In Colab\"/></a>"
      ]
    },
    {
      "cell_type": "code",
      "execution_count": null,
      "metadata": {
        "id": "qGZLTtPlKQ63"
      },
      "outputs": [],
      "source": [
        "#Band Name Generator\n",
        "\n",
        "!wget https://raw.githubusercontent.com/ajax004/ajax004.github.io/main/source/001_bandnamegenerator.py\n",
        "!python3 001_bandnamegenerator.py"
      ]
    }
  ]
}