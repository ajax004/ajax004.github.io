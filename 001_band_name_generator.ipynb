{
  "nbformat": 4,
  "nbformat_minor": 0,
  "metadata": {
    "colab": {
      "provenance": [],
      "authorship_tag": "ABX9TyOCHl59x8zO/NpHZm8RjBiq",
      "include_colab_link": true
    },
    "kernelspec": {
      "name": "python3",
      "display_name": "Python 3"
    },
    "language_info": {
      "name": "python"
    }
  },
  "cells": [
    {
      "cell_type": "markdown",
      "metadata": {
        "id": "view-in-github",
        "colab_type": "text"
      },
      "source": [
        "<a href=\"https://colab.research.google.com/github/ajax004/ajax004.github.io/blob/main/001_band_name_generator.ipynb\" target=\"_parent\"><img src=\"https://colab.research.google.com/assets/colab-badge.svg\" alt=\"Open In Colab\"/></a>"
      ]
    },
    {
      "cell_type": "code",
      "execution_count": null,
      "metadata": {
        "id": "qGZLTtPlKQ63"
      },
      "outputs": [],
      "source": [
        "#Band Name Generator\n",
        "\n",
        "print(\"Welcome to the Band Name Generator\")\n",
        "name_of_city = input(\"What's is the name of the city you grew up in?\\n\")\n",
        "name_of_pet = input(\"What's your pet's name?\\n\")\n",
        "print(\"Your band name could be \" + name_of_city + \" \" + name_of_pet)"
      ]
    }
  ]
}